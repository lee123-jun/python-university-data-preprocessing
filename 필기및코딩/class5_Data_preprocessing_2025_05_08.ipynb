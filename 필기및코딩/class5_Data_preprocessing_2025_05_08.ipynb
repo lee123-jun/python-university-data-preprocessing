{
 "cells": [
  {
   "cell_type": "code",
   "execution_count": 10,
   "id": "874f6eed-15ec-42cb-913b-208da39a7a68",
   "metadata": {},
   "outputs": [],
   "source": [
    "import pandas as pd\n",
    "df=pd.read_csv(\"C:/Users/User/Desktop/국영수2.csv\", encoding=\"cp949\")"
   ]
  },
  {
   "cell_type": "code",
   "execution_count": 11,
   "id": "9f0ebe32-08e9-4647-848a-a3aa5c50cc73",
   "metadata": {},
   "outputs": [
    {
     "data": {
      "text/plain": [
       "(9, 4)"
      ]
     },
     "execution_count": 11,
     "metadata": {},
     "output_type": "execute_result"
    }
   ],
   "source": [
    "df.shape"
   ]
  },
  {
   "cell_type": "code",
   "execution_count": 12,
   "id": "2eace216-6d77-40b3-8a90-b17f0c88e99e",
   "metadata": {},
   "outputs": [
    {
     "data": {
      "text/plain": [
       "Index(['국어', '영어', '수학', '체육'], dtype='object')"
      ]
     },
     "execution_count": 12,
     "metadata": {},
     "output_type": "execute_result"
    }
   ],
   "source": [
    "df.columns"
   ]
  },
  {
   "cell_type": "code",
   "execution_count": 13,
   "id": "153ed499-f1f8-4e33-8f9f-293318d00408",
   "metadata": {},
   "outputs": [
    {
     "data": {
      "text/plain": [
       "국어    float64\n",
       "영어      int64\n",
       "수학    float64\n",
       "체육     object\n",
       "dtype: object"
      ]
     },
     "execution_count": 13,
     "metadata": {},
     "output_type": "execute_result"
    }
   ],
   "source": [
    "df.dtypes"
   ]
  },
  {
   "cell_type": "code",
   "execution_count": 14,
   "id": "5c0d0627-b86d-40c1-b3e8-81032cd245aa",
   "metadata": {},
   "outputs": [
    {
     "data": {
      "text/html": [
       "<div>\n",
       "<style scoped>\n",
       "    .dataframe tbody tr th:only-of-type {\n",
       "        vertical-align: middle;\n",
       "    }\n",
       "\n",
       "    .dataframe tbody tr th {\n",
       "        vertical-align: top;\n",
       "    }\n",
       "\n",
       "    .dataframe thead th {\n",
       "        text-align: right;\n",
       "    }\n",
       "</style>\n",
       "<table border=\"1\" class=\"dataframe\">\n",
       "  <thead>\n",
       "    <tr style=\"text-align: right;\">\n",
       "      <th></th>\n",
       "      <th>국어</th>\n",
       "      <th>영어</th>\n",
       "      <th>수학</th>\n",
       "    </tr>\n",
       "  </thead>\n",
       "  <tbody>\n",
       "    <tr>\n",
       "      <th>count</th>\n",
       "      <td>8.000000</td>\n",
       "      <td>9.000000</td>\n",
       "      <td>8.000000</td>\n",
       "    </tr>\n",
       "    <tr>\n",
       "      <th>mean</th>\n",
       "      <td>67.375000</td>\n",
       "      <td>65.666667</td>\n",
       "      <td>52.875000</td>\n",
       "    </tr>\n",
       "    <tr>\n",
       "      <th>std</th>\n",
       "      <td>18.054976</td>\n",
       "      <td>25.729361</td>\n",
       "      <td>30.554109</td>\n",
       "    </tr>\n",
       "    <tr>\n",
       "      <th>min</th>\n",
       "      <td>41.000000</td>\n",
       "      <td>22.000000</td>\n",
       "      <td>13.000000</td>\n",
       "    </tr>\n",
       "    <tr>\n",
       "      <th>25%</th>\n",
       "      <td>53.000000</td>\n",
       "      <td>47.000000</td>\n",
       "      <td>21.000000</td>\n",
       "    </tr>\n",
       "    <tr>\n",
       "      <th>50%</th>\n",
       "      <td>69.000000</td>\n",
       "      <td>65.000000</td>\n",
       "      <td>59.500000</td>\n",
       "    </tr>\n",
       "    <tr>\n",
       "      <th>75%</th>\n",
       "      <td>84.250000</td>\n",
       "      <td>87.000000</td>\n",
       "      <td>79.500000</td>\n",
       "    </tr>\n",
       "    <tr>\n",
       "      <th>max</th>\n",
       "      <td>87.000000</td>\n",
       "      <td>98.000000</td>\n",
       "      <td>87.000000</td>\n",
       "    </tr>\n",
       "  </tbody>\n",
       "</table>\n",
       "</div>"
      ],
      "text/plain": [
       "              국어         영어         수학\n",
       "count   8.000000   9.000000   8.000000\n",
       "mean   67.375000  65.666667  52.875000\n",
       "std    18.054976  25.729361  30.554109\n",
       "min    41.000000  22.000000  13.000000\n",
       "25%    53.000000  47.000000  21.000000\n",
       "50%    69.000000  65.000000  59.500000\n",
       "75%    84.250000  87.000000  79.500000\n",
       "max    87.000000  98.000000  87.000000"
      ]
     },
     "execution_count": 14,
     "metadata": {},
     "output_type": "execute_result"
    }
   ],
   "source": [
    "df.describe()"
   ]
  },
  {
   "cell_type": "code",
   "execution_count": 15,
   "id": "393fdbfc-2419-48b6-90da-5cb854548a5a",
   "metadata": {},
   "outputs": [
    {
     "data": {
      "text/html": [
       "<div>\n",
       "<style scoped>\n",
       "    .dataframe tbody tr th:only-of-type {\n",
       "        vertical-align: middle;\n",
       "    }\n",
       "\n",
       "    .dataframe tbody tr th {\n",
       "        vertical-align: top;\n",
       "    }\n",
       "\n",
       "    .dataframe thead th {\n",
       "        text-align: right;\n",
       "    }\n",
       "</style>\n",
       "<table border=\"1\" class=\"dataframe\">\n",
       "  <thead>\n",
       "    <tr style=\"text-align: right;\">\n",
       "      <th></th>\n",
       "      <th>국어</th>\n",
       "      <th>영어</th>\n",
       "      <th>수학</th>\n",
       "      <th>체육</th>\n",
       "    </tr>\n",
       "  </thead>\n",
       "  <tbody>\n",
       "    <tr>\n",
       "      <th>0</th>\n",
       "      <td>50.0</td>\n",
       "      <td>88</td>\n",
       "      <td>21.0</td>\n",
       "      <td>상</td>\n",
       "    </tr>\n",
       "    <tr>\n",
       "      <th>1</th>\n",
       "      <td>41.0</td>\n",
       "      <td>87</td>\n",
       "      <td>54.0</td>\n",
       "      <td>중</td>\n",
       "    </tr>\n",
       "    <tr>\n",
       "      <th>2</th>\n",
       "      <td>85.0</td>\n",
       "      <td>65</td>\n",
       "      <td>84.0</td>\n",
       "      <td>상</td>\n",
       "    </tr>\n",
       "    <tr>\n",
       "      <th>3</th>\n",
       "      <td>61.0</td>\n",
       "      <td>85</td>\n",
       "      <td>13.0</td>\n",
       "      <td>중</td>\n",
       "    </tr>\n",
       "    <tr>\n",
       "      <th>4</th>\n",
       "      <td>54.0</td>\n",
       "      <td>41</td>\n",
       "      <td>21.0</td>\n",
       "      <td>하</td>\n",
       "    </tr>\n",
       "  </tbody>\n",
       "</table>\n",
       "</div>"
      ],
      "text/plain": [
       "     국어  영어    수학 체육\n",
       "0  50.0  88  21.0  상\n",
       "1  41.0  87  54.0  중\n",
       "2  85.0  65  84.0  상\n",
       "3  61.0  85  13.0  중\n",
       "4  54.0  41  21.0  하"
      ]
     },
     "execution_count": 15,
     "metadata": {},
     "output_type": "execute_result"
    }
   ],
   "source": [
    "df.head()"
   ]
  },
  {
   "cell_type": "code",
   "execution_count": 16,
   "id": "cad3102f-ead1-4a17-be76-315e0ea20fb9",
   "metadata": {},
   "outputs": [
    {
     "data": {
      "text/html": [
       "<div>\n",
       "<style scoped>\n",
       "    .dataframe tbody tr th:only-of-type {\n",
       "        vertical-align: middle;\n",
       "    }\n",
       "\n",
       "    .dataframe tbody tr th {\n",
       "        vertical-align: top;\n",
       "    }\n",
       "\n",
       "    .dataframe thead th {\n",
       "        text-align: right;\n",
       "    }\n",
       "</style>\n",
       "<table border=\"1\" class=\"dataframe\">\n",
       "  <thead>\n",
       "    <tr style=\"text-align: right;\">\n",
       "      <th></th>\n",
       "      <th>국어</th>\n",
       "      <th>영어</th>\n",
       "      <th>수학</th>\n",
       "      <th>체육</th>\n",
       "    </tr>\n",
       "  </thead>\n",
       "  <tbody>\n",
       "    <tr>\n",
       "      <th>4</th>\n",
       "      <td>54.0</td>\n",
       "      <td>41</td>\n",
       "      <td>21.0</td>\n",
       "      <td>하</td>\n",
       "    </tr>\n",
       "    <tr>\n",
       "      <th>5</th>\n",
       "      <td>84.0</td>\n",
       "      <td>47</td>\n",
       "      <td>87.0</td>\n",
       "      <td>하</td>\n",
       "    </tr>\n",
       "    <tr>\n",
       "      <th>6</th>\n",
       "      <td>77.0</td>\n",
       "      <td>98</td>\n",
       "      <td>65.0</td>\n",
       "      <td>상</td>\n",
       "    </tr>\n",
       "    <tr>\n",
       "      <th>7</th>\n",
       "      <td>87.0</td>\n",
       "      <td>58</td>\n",
       "      <td>NaN</td>\n",
       "      <td>중</td>\n",
       "    </tr>\n",
       "    <tr>\n",
       "      <th>8</th>\n",
       "      <td>NaN</td>\n",
       "      <td>22</td>\n",
       "      <td>78.0</td>\n",
       "      <td>하</td>\n",
       "    </tr>\n",
       "  </tbody>\n",
       "</table>\n",
       "</div>"
      ],
      "text/plain": [
       "     국어  영어    수학 체육\n",
       "4  54.0  41  21.0  하\n",
       "5  84.0  47  87.0  하\n",
       "6  77.0  98  65.0  상\n",
       "7  87.0  58   NaN  중\n",
       "8   NaN  22  78.0  하"
      ]
     },
     "execution_count": 16,
     "metadata": {},
     "output_type": "execute_result"
    }
   ],
   "source": [
    "df.tail()"
   ]
  },
  {
   "cell_type": "code",
   "execution_count": 17,
   "id": "dd182d74-dcf7-4bcd-b0c7-03c3c1499a19",
   "metadata": {},
   "outputs": [
    {
     "data": {
      "text/plain": [
       "국어    1\n",
       "영어    0\n",
       "수학    1\n",
       "체육    0\n",
       "dtype: int64"
      ]
     },
     "execution_count": 17,
     "metadata": {},
     "output_type": "execute_result"
    }
   ],
   "source": [
    "df.isnull().sum()"
   ]
  },
  {
   "cell_type": "code",
   "execution_count": 18,
   "id": "d99acc94-afb8-4d81-a197-1adf2e4ed6a7",
   "metadata": {},
   "outputs": [
    {
     "data": {
      "text/plain": [
       "체육\n",
       "상    3\n",
       "중    3\n",
       "하    3\n",
       "Name: count, dtype: int64"
      ]
     },
     "execution_count": 18,
     "metadata": {},
     "output_type": "execute_result"
    }
   ],
   "source": [
    "df[\"체육\"].value_counts()\n",
    "# 여기까지가 데이터 불러오고 나서 무조건\n",
    "# 이 작업까지 해서 데이터를 파악하는 과정이다"
   ]
  },
  {
   "cell_type": "code",
   "execution_count": 19,
   "id": "1b9524b6-30c5-40a4-98bd-fed718e940c0",
   "metadata": {},
   "outputs": [
    {
     "data": {
      "text/plain": [
       "array(['상', '중', '하'], dtype=object)"
      ]
     },
     "execution_count": 19,
     "metadata": {},
     "output_type": "execute_result"
    }
   ],
   "source": [
    "df[\"체육\"].unique()"
   ]
  },
  {
   "cell_type": "code",
   "execution_count": 20,
   "id": "fdcf7fa0-df8a-4064-9c1e-3475225a7c91",
   "metadata": {},
   "outputs": [
    {
     "data": {
      "text/plain": [
       "3"
      ]
     },
     "execution_count": 20,
     "metadata": {},
     "output_type": "execute_result"
    }
   ],
   "source": [
    "df[\"체육\"].nunique()"
   ]
  },
  {
   "cell_type": "code",
   "execution_count": 21,
   "id": "2270e067-bf82-46f3-9405-7401f7ed4bc5",
   "metadata": {},
   "outputs": [],
   "source": [
    "df=pd.read_csv(\"C:/Users/User/Desktop/국영수.csv\", encoding='cp949')"
   ]
  },
  {
   "cell_type": "code",
   "execution_count": 23,
   "id": "93adbd41-0e17-49dd-8666-0456fcb90f28",
   "metadata": {},
   "outputs": [
    {
     "data": {
      "text/plain": [
       "0    상\n",
       "1    중\n",
       "2    상\n",
       "3    중\n",
       "4    하\n",
       "5    하\n",
       "6    상\n",
       "7    중\n",
       "8    하\n",
       "Name: 체육, dtype: object"
      ]
     },
     "execution_count": 23,
     "metadata": {},
     "output_type": "execute_result"
    }
   ],
   "source": [
    "# 방법 1. 하나의 변수 추출\n",
    "df[\"체육\"]"
   ]
  },
  {
   "cell_type": "code",
   "execution_count": 24,
   "id": "43271a02-38e3-44c9-8c3c-beeccb9e1f9f",
   "metadata": {},
   "outputs": [],
   "source": [
    "# 새로운 열 생성\n",
    "df[\"total\"] = df[\"수학\"] + df[\"영어\"]"
   ]
  },
  {
   "cell_type": "code",
   "execution_count": 26,
   "id": "c03386e9-5f75-4925-a735-085d6af091d1",
   "metadata": {},
   "outputs": [
    {
     "name": "stdout",
     "output_type": "stream",
     "text": [
      "   국어  영어  수학 체육  total\n",
      "0  50  88  21  상    109\n",
      "1  41  87  54  중    141\n",
      "2  85  65  84  상    149\n",
      "3  61  85  13  중     98\n",
      "4  54  41  21  하     62\n",
      "5  84  47  87  하    134\n",
      "6  77  98  65  상    163\n",
      "7  87  58  54  중    112\n",
      "8  54  22  78  하    100\n"
     ]
    }
   ],
   "source": [
    "print(df)"
   ]
  },
  {
   "cell_type": "code",
   "execution_count": 29,
   "id": "e1fafaa6-c895-4a9e-97eb-0dec6b02f2ec",
   "metadata": {},
   "outputs": [],
   "source": [
    "columns = [df['수학'], df['영어']]"
   ]
  },
  {
   "cell_type": "code",
   "execution_count": 30,
   "id": "8cc70c69-979c-49a4-ba2c-4af72bd6405a",
   "metadata": {},
   "outputs": [
    {
     "data": {
      "text/plain": [
       "[0    21\n",
       " 1    54\n",
       " 2    84\n",
       " 3    13\n",
       " 4    21\n",
       " 5    87\n",
       " 6    65\n",
       " 7    54\n",
       " 8    78\n",
       " Name: 수학, dtype: int64,\n",
       " 0    88\n",
       " 1    87\n",
       " 2    65\n",
       " 3    85\n",
       " 4    41\n",
       " 5    47\n",
       " 6    98\n",
       " 7    58\n",
       " 8    22\n",
       " Name: 영어, dtype: int64]"
      ]
     },
     "execution_count": 30,
     "metadata": {},
     "output_type": "execute_result"
    }
   ],
   "source": [
    "columns"
   ]
  },
  {
   "cell_type": "code",
   "execution_count": 31,
   "id": "0581e5d2-078f-4e04-b3f0-6e2f3ee3112b",
   "metadata": {},
   "outputs": [],
   "source": [
    "# 방법 2"
   ]
  },
  {
   "cell_type": "code",
   "execution_count": 39,
   "id": "1e370666-519c-46c5-b9de-00aa661dbb8a",
   "metadata": {},
   "outputs": [
    {
     "data": {
      "text/plain": [
       "0    상\n",
       "1    중\n",
       "2    상\n",
       "3    중\n",
       "4    하\n",
       "5    하\n",
       "6    상\n",
       "7    중\n",
       "8    하\n",
       "Name: 체육, dtype: object"
      ]
     },
     "execution_count": 39,
     "metadata": {},
     "output_type": "execute_result"
    }
   ],
   "source": [
    "# loc: 변수명을 입력\n",
    "df.loc[:, \"체육\"]"
   ]
  },
  {
   "cell_type": "code",
   "execution_count": 41,
   "id": "600445e3-017e-4941-a61a-222ea2abaff3",
   "metadata": {},
   "outputs": [
    {
     "data": {
      "text/plain": [
       "0    상\n",
       "1    중\n",
       "2    상\n",
       "3    중\n",
       "4    하\n",
       "5    하\n",
       "6    상\n",
       "7    중\n",
       "8    하\n",
       "Name: 체육, dtype: object"
      ]
     },
     "execution_count": 41,
     "metadata": {},
     "output_type": "execute_result"
    }
   ],
   "source": [
    "# iloc: 변수위치를 입력 int locatcion의 약자\n",
    "# 0번째 열: 국어, 1번째 열: 영어, 2번째 열: 수학, 3번재 열: 체육\n",
    "df.iloc[:,3]"
   ]
  },
  {
   "cell_type": "code",
   "execution_count": 44,
   "id": "d8eba436-a009-4f8d-86d3-873891650558",
   "metadata": {},
   "outputs": [
    {
     "data": {
      "text/html": [
       "<div>\n",
       "<style scoped>\n",
       "    .dataframe tbody tr th:only-of-type {\n",
       "        vertical-align: middle;\n",
       "    }\n",
       "\n",
       "    .dataframe tbody tr th {\n",
       "        vertical-align: top;\n",
       "    }\n",
       "\n",
       "    .dataframe thead th {\n",
       "        text-align: right;\n",
       "    }\n",
       "</style>\n",
       "<table border=\"1\" class=\"dataframe\">\n",
       "  <thead>\n",
       "    <tr style=\"text-align: right;\">\n",
       "      <th></th>\n",
       "      <th>국어</th>\n",
       "      <th>영어</th>\n",
       "      <th>수학</th>\n",
       "    </tr>\n",
       "  </thead>\n",
       "  <tbody>\n",
       "    <tr>\n",
       "      <th>0</th>\n",
       "      <td>50</td>\n",
       "      <td>88</td>\n",
       "      <td>21</td>\n",
       "    </tr>\n",
       "    <tr>\n",
       "      <th>1</th>\n",
       "      <td>41</td>\n",
       "      <td>87</td>\n",
       "      <td>54</td>\n",
       "    </tr>\n",
       "    <tr>\n",
       "      <th>2</th>\n",
       "      <td>85</td>\n",
       "      <td>65</td>\n",
       "      <td>84</td>\n",
       "    </tr>\n",
       "    <tr>\n",
       "      <th>3</th>\n",
       "      <td>61</td>\n",
       "      <td>85</td>\n",
       "      <td>13</td>\n",
       "    </tr>\n",
       "    <tr>\n",
       "      <th>4</th>\n",
       "      <td>54</td>\n",
       "      <td>41</td>\n",
       "      <td>21</td>\n",
       "    </tr>\n",
       "    <tr>\n",
       "      <th>5</th>\n",
       "      <td>84</td>\n",
       "      <td>47</td>\n",
       "      <td>87</td>\n",
       "    </tr>\n",
       "    <tr>\n",
       "      <th>6</th>\n",
       "      <td>77</td>\n",
       "      <td>98</td>\n",
       "      <td>65</td>\n",
       "    </tr>\n",
       "    <tr>\n",
       "      <th>7</th>\n",
       "      <td>87</td>\n",
       "      <td>58</td>\n",
       "      <td>54</td>\n",
       "    </tr>\n",
       "    <tr>\n",
       "      <th>8</th>\n",
       "      <td>54</td>\n",
       "      <td>22</td>\n",
       "      <td>78</td>\n",
       "    </tr>\n",
       "  </tbody>\n",
       "</table>\n",
       "</div>"
      ],
      "text/plain": [
       "   국어  영어  수학\n",
       "0  50  88  21\n",
       "1  41  87  54\n",
       "2  85  65  84\n",
       "3  61  85  13\n",
       "4  54  41  21\n",
       "5  84  47  87\n",
       "6  77  98  65\n",
       "7  87  58  54\n",
       "8  54  22  78"
      ]
     },
     "execution_count": 44,
     "metadata": {},
     "output_type": "execute_result"
    }
   ],
   "source": [
    "# 두개 이상의 변수 추출 시 리스트로 변수를 추출\n",
    "df.iloc[:,[0,1,2]]"
   ]
  },
  {
   "cell_type": "code",
   "execution_count": 51,
   "id": "95fc5370-c864-4d5e-8893-59b3af1e0629",
   "metadata": {},
   "outputs": [
    {
     "data": {
      "text/plain": [
       "0    상\n",
       "1    중\n",
       "2    상\n",
       "3    중\n",
       "Name: 체육, dtype: object"
      ]
     },
     "execution_count": 51,
     "metadata": {},
     "output_type": "execute_result"
    }
   ],
   "source": [
    "# 리스트인덱싱과 유사함\n",
    "df[\"체육\"][:4]"
   ]
  },
  {
   "cell_type": "code",
   "execution_count": null,
   "id": "e0cd416c-8363-49eb-a7d6-de59a9bf583b",
   "metadata": {},
   "outputs": [],
   "source": []
  }
 ],
 "metadata": {
  "kernelspec": {
   "display_name": "Python 3 (ipykernel)",
   "language": "python",
   "name": "python3"
  },
  "language_info": {
   "codemirror_mode": {
    "name": "ipython",
    "version": 3
   },
   "file_extension": ".py",
   "mimetype": "text/x-python",
   "name": "python",
   "nbconvert_exporter": "python",
   "pygments_lexer": "ipython3",
   "version": "3.11.7"
  }
 },
 "nbformat": 4,
 "nbformat_minor": 5
}
