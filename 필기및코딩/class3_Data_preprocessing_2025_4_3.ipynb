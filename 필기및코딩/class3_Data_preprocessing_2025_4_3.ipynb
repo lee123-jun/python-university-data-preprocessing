{
  "nbformat": 4,
  "nbformat_minor": 0,
  "metadata": {
    "colab": {
      "provenance": []
    },
    "kernelspec": {
      "name": "python3",
      "display_name": "Python 3"
    },
    "language_info": {
      "name": "python"
    }
  },
  "cells": [
    {
      "cell_type": "code",
      "execution_count": 1,
      "metadata": {
        "colab": {
          "base_uri": "https://localhost:8080/"
        },
        "id": "waY_O7GUZcUs",
        "outputId": "f6d283db-ab61-454f-8b36-9b3441af9e03"
      },
      "outputs": [
        {
          "output_type": "stream",
          "name": "stdout",
          "text": [
            "50\n"
          ]
        }
      ],
      "source": [
        "a = 20\n",
        "b =30\n",
        "print(a+b)"
      ]
    },
    {
      "cell_type": "code",
      "source": [
        "name = \"이혜준\"\n",
        "print(\"결과: 안녕하세요 {}님 데이터전처리 수업에 오신것을 환영합니다.\".format(name))"
      ],
      "metadata": {
        "colab": {
          "base_uri": "https://localhost:8080/"
        },
        "id": "amv-6MHFZhSA",
        "outputId": "4259c2f0-406e-4803-fe12-5eeb803c0235"
      },
      "execution_count": 58,
      "outputs": [
        {
          "output_type": "stream",
          "name": "stdout",
          "text": [
            "결과: 안녕하세요 이혜준님 데이터전처리 수업에 오신것을 환영합니다.\n"
          ]
        }
      ]
    },
    {
      "cell_type": "code",
      "source": [
        "import numpy as np\n",
        "list = [1,5,5,7,3,6,88,12,5,74,4,8,64,2,7,89,33,1,6,8,1,5,6,7]\n",
        "type(list)\n"
      ],
      "metadata": {
        "colab": {
          "base_uri": "https://localhost:8080/"
        },
        "id": "dHlUqWj8ZzE-",
        "outputId": "e9e4e0b2-8d4c-4fb1-e026-d12f2ce41a27"
      },
      "execution_count": 29,
      "outputs": [
        {
          "output_type": "execute_result",
          "data": {
            "text/plain": [
              "list"
            ]
          },
          "metadata": {},
          "execution_count": 29
        }
      ]
    },
    {
      "cell_type": "code",
      "source": [
        "array_1 = np.array([1,5,5,7,3,6,88,12,5,74,4,8,64,2,7,89,33,1,6,8,1,5,6,7])\n",
        "type(array_1)"
      ],
      "metadata": {
        "colab": {
          "base_uri": "https://localhost:8080/"
        },
        "id": "xauuYpTLaDMH",
        "outputId": "8e209372-ec91-4b81-954f-ee8afda1be3c"
      },
      "execution_count": 10,
      "outputs": [
        {
          "output_type": "execute_result",
          "data": {
            "text/plain": [
              "numpy.ndarray"
            ]
          },
          "metadata": {},
          "execution_count": 10
        }
      ]
    },
    {
      "cell_type": "code",
      "source": [
        "print(array_1[0:5])\n",
        "print(array_1[5:10])\n",
        "print(array_1[0:5] + array_1[5:10])"
      ],
      "metadata": {
        "colab": {
          "base_uri": "https://localhost:8080/"
        },
        "id": "pRb6bVP0a1V2",
        "outputId": "383c2215-d1af-4681-88b6-b4f44b0d6259"
      },
      "execution_count": 60,
      "outputs": [
        {
          "output_type": "stream",
          "name": "stdout",
          "text": [
            "[1 5 5 7 3]\n",
            "[ 6 88 12  5 74]\n",
            "[ 7 93 17 12 77]\n"
          ]
        }
      ]
    },
    {
      "cell_type": "code",
      "source": [
        "list.index(88)"
      ],
      "metadata": {
        "colab": {
          "base_uri": "https://localhost:8080/"
        },
        "id": "KZtzwS4AbC0l",
        "outputId": "750c2910-9e14-45c5-cd97-dcfb65fe68ff"
      },
      "execution_count": 30,
      "outputs": [
        {
          "output_type": "execute_result",
          "data": {
            "text/plain": [
              "6"
            ]
          },
          "metadata": {},
          "execution_count": 30
        }
      ]
    },
    {
      "cell_type": "code",
      "source": [
        "name = [\"Jone -30\", \"Park-30\", \"Kim-20\", \"Lee-10\", \"Oh-32\", \"Kang-25\"]\n",
        "#print(name[name.index(\"Lee-10\"):name.index(\"Oh-32\")])\n",
        "print(\"결과1:{}\".format(name[3][:name[3].index(\"-\")]))"
      ],
      "metadata": {
        "colab": {
          "base_uri": "https://localhost:8080/"
        },
        "id": "hL50KXzebdo8",
        "outputId": "7a0d5bd6-0bb5-4907-87c5-1b89418eeedc"
      },
      "execution_count": 52,
      "outputs": [
        {
          "output_type": "stream",
          "name": "stdout",
          "text": [
            "결과1:Lee\n"
          ]
        }
      ]
    },
    {
      "cell_type": "code",
      "source": [
        "list = [\"데이터 전처리 수업, 입니다.\", \"Data Preprocessing\"]\n",
        "list.pop(0)\n",
        "list.append(\"데이터 전처리 수업 입니다\")\n",
        "\n",
        "list.pop(0)\n",
        "list.append(\"Data preprocesing\")\n",
        "print(\"결과1: {}\".format(list[0]))\n",
        "print(\"결과2: {}\".format(list[1]))"
      ],
      "metadata": {
        "colab": {
          "base_uri": "https://localhost:8080/"
        },
        "id": "AfzFhxTgcXQ0",
        "outputId": "68cf9826-4a98-4189-e665-242de89427ea"
      },
      "execution_count": 68,
      "outputs": [
        {
          "output_type": "stream",
          "name": "stdout",
          "text": [
            "결과1: 데이터 전처리 수업 입니다\n",
            "결과2: Data preprocesing\n"
          ]
        }
      ]
    },
    {
      "cell_type": "code",
      "source": [],
      "metadata": {
        "id": "3OBuLVMwdO3j"
      },
      "execution_count": null,
      "outputs": []
    }
  ]
}