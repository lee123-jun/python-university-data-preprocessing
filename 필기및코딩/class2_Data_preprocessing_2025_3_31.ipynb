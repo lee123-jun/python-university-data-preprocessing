{
 "cells": [
  {
   "cell_type": "code",
   "execution_count": 1,
   "id": "16c1fd71",
   "metadata": {},
   "outputs": [],
   "source": [
    "import numpy as np"
   ]
  },
  {
   "cell_type": "code",
   "execution_count": 2,
   "id": "c3b6a998",
   "metadata": {},
   "outputs": [
    {
     "data": {
      "text/plain": [
       "(2, 3)"
      ]
     },
     "execution_count": 2,
     "metadata": {},
     "output_type": "execute_result"
    }
   ],
   "source": [
    "a=np.array([[1,2,3],[4,5,6]])\n",
    "b=np.array([[5,6,7],[8,9,10]])\n",
    "c=a+b\n",
    "type(c)\n",
    "c.shape"
   ]
  },
  {
   "cell_type": "code",
   "execution_count": 3,
   "id": "7a429b69",
   "metadata": {},
   "outputs": [
    {
     "data": {
      "text/plain": [
       "'안'"
      ]
     },
     "execution_count": 3,
     "metadata": {},
     "output_type": "execute_result"
    }
   ],
   "source": [
    "A = \"안녕하세요 지금은 데이터 전처리 수업 시간입니다\"\n",
    "A[0]"
   ]
  },
  {
   "cell_type": "code",
   "execution_count": 4,
   "id": "636942f9",
   "metadata": {},
   "outputs": [
    {
     "data": {
      "text/plain": [
       "'안녕하세요 지금은 데이터 전처리 수업 시간입니다'"
      ]
     },
     "execution_count": 4,
     "metadata": {},
     "output_type": "execute_result"
    }
   ],
   "source": [
    "# 문장전체가 출력됨\n",
    "A[:]"
   ]
  },
  {
   "cell_type": "code",
   "execution_count": 7,
   "id": "95dbffca",
   "metadata": {},
   "outputs": [
    {
     "data": {
      "text/plain": [
       "'안녕하세'"
      ]
     },
     "execution_count": 7,
     "metadata": {},
     "output_type": "execute_result"
    }
   ],
   "source": [
    "A[0:4]"
   ]
  },
  {
   "cell_type": "code",
   "execution_count": 9,
   "id": "5f557f0c",
   "metadata": {},
   "outputs": [
    {
     "data": {
      "text/plain": [
       "'데이터'"
      ]
     },
     "execution_count": 9,
     "metadata": {},
     "output_type": "execute_result"
    }
   ],
   "source": [
    "A[10:13]"
   ]
  },
  {
   "cell_type": "code",
   "execution_count": 10,
   "id": "8ce6108b",
   "metadata": {},
   "outputs": [
    {
     "data": {
      "text/plain": [
       "'다'"
      ]
     },
     "execution_count": 10,
     "metadata": {},
     "output_type": "execute_result"
    }
   ],
   "source": [
    "A[-1]"
   ]
  },
  {
   "cell_type": "code",
   "execution_count": 11,
   "id": "176619f3",
   "metadata": {},
   "outputs": [
    {
     "data": {
      "text/plain": [
       "'시간입니다'"
      ]
     },
     "execution_count": 11,
     "metadata": {},
     "output_type": "execute_result"
    }
   ],
   "source": [
    "A[-5:]"
   ]
  },
  {
   "cell_type": "code",
   "execution_count": 13,
   "id": "5ec48399",
   "metadata": {},
   "outputs": [
    {
     "name": "stdout",
     "output_type": "stream",
     "text": [
      "I am a boy\n"
     ]
    }
   ],
   "source": [
    "# 포멧 변경\n",
    "print((\"I am a {}\").format(\"boy\"))"
   ]
  },
  {
   "cell_type": "code",
   "execution_count": 15,
   "id": "97633f0f",
   "metadata": {},
   "outputs": [
    {
     "data": {
      "text/plain": [
       "'www.youtube.com/'"
      ]
     },
     "execution_count": 15,
     "metadata": {},
     "output_type": "execute_result"
    }
   ],
   "source": [
    "# replace 함수\n",
    "url = \"https://www.youtube.com/\"\n",
    "str = url.replace(\"https://\",\"\")\n",
    "str"
   ]
  },
  {
   "cell_type": "code",
   "execution_count": 16,
   "id": "b0c6d1e2",
   "metadata": {},
   "outputs": [
    {
     "data": {
      "text/plain": [
       "70"
      ]
     },
     "execution_count": 16,
     "metadata": {},
     "output_type": "execute_result"
    }
   ],
   "source": [
    "A = [10,20,30,40,50,60,70,80,90]\n",
    "A[0] + A[5] "
   ]
  },
  {
   "cell_type": "code",
   "execution_count": 18,
   "id": "7e0e1c58",
   "metadata": {},
   "outputs": [
    {
     "data": {
      "text/plain": [
       "'독고영재, 50'"
      ]
     },
     "execution_count": 18,
     "metadata": {},
     "output_type": "execute_result"
    }
   ],
   "source": [
    "A = [\"독고영재, 50\", \"김철수, 30\"]\n",
    "# A = \"안녕하세요 지금은 데이터 전처리 수업 시간입니다.\"\n",
    "A[0]"
   ]
  },
  {
   "cell_type": "code",
   "execution_count": 19,
   "id": "a2cef7f8",
   "metadata": {},
   "outputs": [
    {
     "data": {
      "text/plain": [
       "'독고영재'"
      ]
     },
     "execution_count": 19,
     "metadata": {},
     "output_type": "execute_result"
    }
   ],
   "source": [
    "A[0][0:4]"
   ]
  },
  {
   "cell_type": "code",
   "execution_count": 27,
   "id": "8116ab0f",
   "metadata": {},
   "outputs": [
    {
     "data": {
      "text/plain": [
       "'독고영재'"
      ]
     },
     "execution_count": 27,
     "metadata": {},
     "output_type": "execute_result"
    }
   ],
   "source": [
    "# 이거 좀 중요할 듯 ?\n",
    "a = [\"독고영재, 50\", \"김철수, 30\"]\n",
    "b = [\"김철수\",\"20\",\"김영희,25\"]\n",
    "\n",
    "a[0][:a[0].index(\",\")]\n",
    "# b[0][:b[1].index(\",\")]"
   ]
  },
  {
   "cell_type": "code",
   "execution_count": 28,
   "id": "fd9a1265",
   "metadata": {},
   "outputs": [
    {
     "data": {
      "text/plain": [
       "['hi', 10, '80', '김철수', 50, 50.6, 1]"
      ]
     },
     "execution_count": 28,
     "metadata": {},
     "output_type": "execute_result"
    }
   ],
   "source": [
    "# 리스트에 값 추가\n",
    "a=[\"hi\",10,\"80\",\"김철수\",50,50.6]\n",
    "a.append(1)\n",
    "a\n"
   ]
  },
  {
   "cell_type": "code",
   "execution_count": 29,
   "id": "9cbf8b7c",
   "metadata": {},
   "outputs": [
    {
     "data": {
      "text/plain": [
       "['hi', '80', '김철수', 50, 50.6, 1]"
      ]
     },
     "execution_count": 29,
     "metadata": {},
     "output_type": "execute_result"
    }
   ],
   "source": [
    "# 제거할 위치를 선택하고 삭제\n",
    "a.pop(1)\n",
    "a"
   ]
  },
  {
   "cell_type": "code",
   "execution_count": 30,
   "id": "8fa25148",
   "metadata": {},
   "outputs": [
    {
     "data": {
      "text/plain": [
       "['hi', '80', '김철수', 50.6, 1]"
      ]
     },
     "execution_count": 30,
     "metadata": {},
     "output_type": "execute_result"
    }
   ],
   "source": [
    "b = a.index(50)\n",
    "a.pop(b)\n",
    "a"
   ]
  },
  {
   "cell_type": "code",
   "execution_count": 34,
   "id": "d5752c17",
   "metadata": {},
   "outputs": [
    {
     "data": {
      "text/plain": [
       "array([1, 2, 3, 4, 4, 5])"
      ]
     },
     "execution_count": 34,
     "metadata": {},
     "output_type": "execute_result"
    }
   ],
   "source": [
    "# append 함수 뒤에 넣고 싶은 값을 넣는다\n",
    "a = np.array([1,2,3,4])\n",
    "a = np.append(a,[4,5])\n",
    "a"
   ]
  },
  {
   "cell_type": "code",
   "execution_count": 33,
   "id": "b1ae6b01",
   "metadata": {},
   "outputs": [
    {
     "data": {
      "text/plain": [
       "array([1, 7, 8, 7, 8, 2, 3, 4, 4, 5])"
      ]
     },
     "execution_count": 33,
     "metadata": {},
     "output_type": "execute_result"
    }
   ],
   "source": [
    "# insert 함수 넣고 싶은 위치에 넣기\n",
    "a = np.insert(a, 1, [7,8])\n",
    "a"
   ]
  },
  {
   "cell_type": "code",
   "execution_count": 36,
   "id": "e0393e88",
   "metadata": {},
   "outputs": [
    {
     "data": {
      "text/plain": [
       "array([2, 3, 4])"
      ]
     },
     "execution_count": 36,
     "metadata": {},
     "output_type": "execute_result"
    }
   ],
   "source": [
    "# delete 함수 지우고 싶은 위치를 전달\n",
    "a = np.array([1,2,3,4])\n",
    "a = np.delete(a, [0])\n",
    "a"
   ]
  },
  {
   "cell_type": "code",
   "execution_count": 37,
   "id": "21005b05",
   "metadata": {},
   "outputs": [],
   "source": [
    "# 배열 수직으로 합치기\n",
    "array1=np.array([[1,2,3],[4,5,6]])\n",
    "b=np.array([[5,6,7],[8,9,10]])"
   ]
  },
  {
   "cell_type": "code",
   "execution_count": 39,
   "id": "93177890",
   "metadata": {},
   "outputs": [
    {
     "data": {
      "text/plain": [
       "'박영희'"
      ]
     },
     "execution_count": 39,
     "metadata": {},
     "output_type": "execute_result"
    }
   ],
   "source": [
    "# 딕셔너리 키 값 안에 변수를 넣는 방식\n",
    "A = {1: \"김철수\", 2: \"박영희\"}\n",
    "A[1]\n",
    "A.get(2)"
   ]
  },
  {
   "cell_type": "code",
   "execution_count": 40,
   "id": "a1407521",
   "metadata": {},
   "outputs": [
    {
     "data": {
      "text/plain": [
       "{'1-A': '김철수', '20-B': '박영희', '2-A': '이혜준'}"
      ]
     },
     "execution_count": 40,
     "metadata": {},
     "output_type": "execute_result"
    }
   ],
   "source": [
    "# 딕셔너리 추가 삭제\n",
    "A = {\"1-A\": \"김철수\", \"20-B\": \"박영희\"}\n",
    "A[\"2-A\"] = \"이혜준\" # 추가\n",
    "A"
   ]
  },
  {
   "cell_type": "code",
   "execution_count": null,
   "id": "08c9380f",
   "metadata": {},
   "outputs": [],
   "source": []
  }
 ],
 "metadata": {
  "kernelspec": {
   "display_name": "hyejun",
   "language": "python",
   "name": "hyejun"
  },
  "language_info": {
   "codemirror_mode": {
    "name": "ipython",
    "version": 3
   },
   "file_extension": ".py",
   "mimetype": "text/x-python",
   "name": "python",
   "nbconvert_exporter": "python",
   "pygments_lexer": "ipython3",
   "version": "3.9.7"
  }
 },
 "nbformat": 4,
 "nbformat_minor": 5
}
